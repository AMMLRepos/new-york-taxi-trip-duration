{
  "nbformat": 4,
  "nbformat_minor": 0,
  "metadata": {
    "kernelspec": {
      "language": "python",
      "display_name": "Python 3",
      "name": "python3"
    },
    "language_info": {
      "name": "python",
      "version": "3.7.10",
      "mimetype": "text/x-python",
      "codemirror_mode": {
        "name": "ipython",
        "version": 3
      },
      "pygments_lexer": "ipython3",
      "nbconvert_exporter": "python",
      "file_extension": ".py"
    },
    "colab": {
      "name": "new-york-city-taxi-trip-duration.ipynb",
      "provenance": [],
      "collapsed_sections": [],
      "include_colab_link": true
    }
  },
  "cells": [
    {
      "cell_type": "markdown",
      "metadata": {
        "id": "view-in-github",
        "colab_type": "text"
      },
      "source": [
        "<a href=\"https://colab.research.google.com/github/AMMLRepos/new-york-taxi-trip-duration/blob/main/new_york_city_taxi_trip_duration.ipynb\" target=\"_parent\"><img src=\"https://colab.research.google.com/assets/colab-badge.svg\" alt=\"Open In Colab\"/></a>"
      ]
    },
    {
      "cell_type": "markdown",
      "metadata": {
        "id": "qsCCeJynIfD3"
      },
      "source": [
        "# Business Problem \n",
        "Predicting a taxi trip duration in New York city for will help a taxi company to -\n",
        "- to plan number of taxis required to address the need \n",
        "- to undestand the most prominent locations \n",
        "- to undetstand the locations where drivers will get longer rides\n",
        "- enhance customer experience \n",
        "- improve taxi utilization and planning \n",
        "\n",
        "# Objective \n",
        "To predict the trip duration of a taxi in New York city\n",
        "\n",
        "# Source of data\n",
        "Data is openely available on [Kaggle](https://www.kaggle.com/c/nyc-taxi-trip-duration/overview/evaluation) \n",
        "\n",
        "# Steps\n",
        "We will perform following probable activities to train a model -\n",
        "- Import required libraries \n",
        "- Download the dataset and import it in notebook \n",
        "- Analyze existing data \n",
        "- Perform feature engineering if required \n",
        "- Prepare and clean data for model training \n",
        "- Evaluate the developed model and make changes to improve accuracy \n",
        "- Publish the model  "
      ]
    },
    {
      "cell_type": "markdown",
      "metadata": {
        "id": "9IHbcq-KJ3vO"
      },
      "source": [
        "## Import required libraries and download the dataset\n",
        "We will use [opendatasets](https://github.com/JovianML/opendatasets) library from [jovian](https://jovian.ai/) to download kaggle data "
      ]
    },
    {
      "cell_type": "code",
      "metadata": {
        "execution": {
          "iopub.status.busy": "2021-10-27T03:31:34.499017Z",
          "iopub.execute_input": "2021-10-27T03:31:34.499992Z",
          "iopub.status.idle": "2021-10-27T03:31:34.505731Z",
          "shell.execute_reply.started": "2021-10-27T03:31:34.499952Z",
          "shell.execute_reply": "2021-10-27T03:31:34.504717Z"
        },
        "trusted": true,
        "id": "a4iIJcy9IK3K"
      },
      "source": [
        "import pandas as pd\n",
        "import numpy as np\n",
        "import matplotlib.pyplot as plt\n",
        "import seaborn as sns"
      ],
      "execution_count": 1,
      "outputs": []
    },
    {
      "cell_type": "code",
      "metadata": {
        "colab": {
          "base_uri": "https://localhost:8080/"
        },
        "id": "Dz4icZqEKN0R",
        "outputId": "b5546556-fe02-46a9-ce78-5c2c7bff3156"
      },
      "source": [
        "!pip install opendatasets"
      ],
      "execution_count": 2,
      "outputs": [
        {
          "output_type": "stream",
          "name": "stdout",
          "text": [
            "Collecting opendatasets\n",
            "  Downloading opendatasets-0.1.20-py3-none-any.whl (14 kB)\n",
            "Requirement already satisfied: kaggle in /usr/local/lib/python3.7/dist-packages (from opendatasets) (1.5.12)\n",
            "Requirement already satisfied: tqdm in /usr/local/lib/python3.7/dist-packages (from opendatasets) (4.62.3)\n",
            "Requirement already satisfied: click in /usr/local/lib/python3.7/dist-packages (from opendatasets) (7.1.2)\n",
            "Requirement already satisfied: six>=1.10 in /usr/local/lib/python3.7/dist-packages (from kaggle->opendatasets) (1.15.0)\n",
            "Requirement already satisfied: python-slugify in /usr/local/lib/python3.7/dist-packages (from kaggle->opendatasets) (5.0.2)\n",
            "Requirement already satisfied: requests in /usr/local/lib/python3.7/dist-packages (from kaggle->opendatasets) (2.23.0)\n",
            "Requirement already satisfied: python-dateutil in /usr/local/lib/python3.7/dist-packages (from kaggle->opendatasets) (2.8.2)\n",
            "Requirement already satisfied: urllib3 in /usr/local/lib/python3.7/dist-packages (from kaggle->opendatasets) (1.24.3)\n",
            "Requirement already satisfied: certifi in /usr/local/lib/python3.7/dist-packages (from kaggle->opendatasets) (2021.5.30)\n",
            "Requirement already satisfied: text-unidecode>=1.3 in /usr/local/lib/python3.7/dist-packages (from python-slugify->kaggle->opendatasets) (1.3)\n",
            "Requirement already satisfied: chardet<4,>=3.0.2 in /usr/local/lib/python3.7/dist-packages (from requests->kaggle->opendatasets) (3.0.4)\n",
            "Requirement already satisfied: idna<3,>=2.5 in /usr/local/lib/python3.7/dist-packages (from requests->kaggle->opendatasets) (2.10)\n",
            "Installing collected packages: opendatasets\n",
            "Successfully installed opendatasets-0.1.20\n"
          ]
        }
      ]
    },
    {
      "cell_type": "code",
      "metadata": {
        "colab": {
          "base_uri": "https://localhost:8080/"
        },
        "id": "HpOTrO_EKdTy",
        "outputId": "8b9cf0bc-1f7e-42d1-9201-41ff456bc19a"
      },
      "source": [
        "import opendatasets as od\n",
        "import os \n",
        "dataset_url = \"https://www.kaggle.com/c/nyc-taxi-trip-duration/overview/evaluation\"\n",
        "od.download(dataset_url)"
      ],
      "execution_count": 6,
      "outputs": [
        {
          "output_type": "stream",
          "name": "stdout",
          "text": [
            "Skipping, found downloaded files in \"./nyc-taxi-trip-duration\" (use force=True to force download)\n"
          ]
        }
      ]
    },
    {
      "cell_type": "code",
      "metadata": {
        "colab": {
          "base_uri": "https://localhost:8080/"
        },
        "id": "cW2rhk_vm0mL",
        "outputId": "6ee68091-5874-46f5-aab9-1d31aec19d7d"
      },
      "source": [
        "files = os.listdir('nyc-taxi-trip-duration')"
      ],
      "execution_count": 8,
      "outputs": [
        {
          "output_type": "execute_result",
          "data": {
            "text/plain": [
              "['test.zip', 'train.zip', 'sample_submission.zip']"
            ]
          },
          "metadata": {},
          "execution_count": 8
        }
      ]
    },
    {
      "cell_type": "code",
      "metadata": {
        "execution": {
          "iopub.status.busy": "2021-10-27T03:34:41.435195Z",
          "iopub.execute_input": "2021-10-27T03:34:41.436316Z",
          "iopub.status.idle": "2021-10-27T03:34:43.515387Z",
          "shell.execute_reply.started": "2021-10-27T03:34:41.436257Z",
          "shell.execute_reply": "2021-10-27T03:34:43.514056Z"
        },
        "trusted": true,
        "id": "NnHVhvdlIK3L"
      },
      "source": [
        "import zipfile\n",
        "with zipfile.ZipFile(\"./nyc-taxi-trip-duration/train.zip\", 'r') as zip_ref:\n",
        "    zip_ref.extractall(\"./\")"
      ],
      "execution_count": 10,
      "outputs": []
    },
    {
      "cell_type": "code",
      "metadata": {
        "colab": {
          "base_uri": "https://localhost:8080/"
        },
        "id": "vMUfWxqlnLnn",
        "outputId": "8d544eec-ad56-4485-d541-f85820c5a955"
      },
      "source": [
        "os.listdir()"
      ],
      "execution_count": 14,
      "outputs": [
        {
          "output_type": "execute_result",
          "data": {
            "text/plain": [
              "['.config', 'nyc-taxi-trip-duration', 'train.csv', 'sample_data']"
            ]
          },
          "metadata": {},
          "execution_count": 14
        }
      ]
    },
    {
      "cell_type": "code",
      "metadata": {
        "execution": {
          "iopub.status.busy": "2021-10-27T03:39:16.018875Z",
          "iopub.execute_input": "2021-10-27T03:39:16.019195Z",
          "iopub.status.idle": "2021-10-27T03:39:21.961616Z",
          "shell.execute_reply.started": "2021-10-27T03:39:16.019153Z",
          "shell.execute_reply": "2021-10-27T03:39:21.960527Z"
        },
        "trusted": true,
        "colab": {
          "base_uri": "https://localhost:8080/",
          "height": 609
        },
        "id": "0CHYiZ2-IK3L",
        "outputId": "38c1f69c-3b60-41b5-8194-7ec435c90582"
      },
      "source": [
        "raw_taxi_df = pd.read_csv(\"./train.csv\")\n",
        "raw_taxi_df"
      ],
      "execution_count": 15,
      "outputs": [
        {
          "output_type": "execute_result",
          "data": {
            "text/html": [
              "<div>\n",
              "<style scoped>\n",
              "    .dataframe tbody tr th:only-of-type {\n",
              "        vertical-align: middle;\n",
              "    }\n",
              "\n",
              "    .dataframe tbody tr th {\n",
              "        vertical-align: top;\n",
              "    }\n",
              "\n",
              "    .dataframe thead th {\n",
              "        text-align: right;\n",
              "    }\n",
              "</style>\n",
              "<table border=\"1\" class=\"dataframe\">\n",
              "  <thead>\n",
              "    <tr style=\"text-align: right;\">\n",
              "      <th></th>\n",
              "      <th>id</th>\n",
              "      <th>vendor_id</th>\n",
              "      <th>pickup_datetime</th>\n",
              "      <th>dropoff_datetime</th>\n",
              "      <th>passenger_count</th>\n",
              "      <th>pickup_longitude</th>\n",
              "      <th>pickup_latitude</th>\n",
              "      <th>dropoff_longitude</th>\n",
              "      <th>dropoff_latitude</th>\n",
              "      <th>store_and_fwd_flag</th>\n",
              "      <th>trip_duration</th>\n",
              "    </tr>\n",
              "  </thead>\n",
              "  <tbody>\n",
              "    <tr>\n",
              "      <th>0</th>\n",
              "      <td>id2875421</td>\n",
              "      <td>2</td>\n",
              "      <td>2016-03-14 17:24:55</td>\n",
              "      <td>2016-03-14 17:32:30</td>\n",
              "      <td>1</td>\n",
              "      <td>-73.982155</td>\n",
              "      <td>40.767937</td>\n",
              "      <td>-73.964630</td>\n",
              "      <td>40.765602</td>\n",
              "      <td>N</td>\n",
              "      <td>455</td>\n",
              "    </tr>\n",
              "    <tr>\n",
              "      <th>1</th>\n",
              "      <td>id2377394</td>\n",
              "      <td>1</td>\n",
              "      <td>2016-06-12 00:43:35</td>\n",
              "      <td>2016-06-12 00:54:38</td>\n",
              "      <td>1</td>\n",
              "      <td>-73.980415</td>\n",
              "      <td>40.738564</td>\n",
              "      <td>-73.999481</td>\n",
              "      <td>40.731152</td>\n",
              "      <td>N</td>\n",
              "      <td>663</td>\n",
              "    </tr>\n",
              "    <tr>\n",
              "      <th>2</th>\n",
              "      <td>id3858529</td>\n",
              "      <td>2</td>\n",
              "      <td>2016-01-19 11:35:24</td>\n",
              "      <td>2016-01-19 12:10:48</td>\n",
              "      <td>1</td>\n",
              "      <td>-73.979027</td>\n",
              "      <td>40.763939</td>\n",
              "      <td>-74.005333</td>\n",
              "      <td>40.710087</td>\n",
              "      <td>N</td>\n",
              "      <td>2124</td>\n",
              "    </tr>\n",
              "    <tr>\n",
              "      <th>3</th>\n",
              "      <td>id3504673</td>\n",
              "      <td>2</td>\n",
              "      <td>2016-04-06 19:32:31</td>\n",
              "      <td>2016-04-06 19:39:40</td>\n",
              "      <td>1</td>\n",
              "      <td>-74.010040</td>\n",
              "      <td>40.719971</td>\n",
              "      <td>-74.012268</td>\n",
              "      <td>40.706718</td>\n",
              "      <td>N</td>\n",
              "      <td>429</td>\n",
              "    </tr>\n",
              "    <tr>\n",
              "      <th>4</th>\n",
              "      <td>id2181028</td>\n",
              "      <td>2</td>\n",
              "      <td>2016-03-26 13:30:55</td>\n",
              "      <td>2016-03-26 13:38:10</td>\n",
              "      <td>1</td>\n",
              "      <td>-73.973053</td>\n",
              "      <td>40.793209</td>\n",
              "      <td>-73.972923</td>\n",
              "      <td>40.782520</td>\n",
              "      <td>N</td>\n",
              "      <td>435</td>\n",
              "    </tr>\n",
              "    <tr>\n",
              "      <th>...</th>\n",
              "      <td>...</td>\n",
              "      <td>...</td>\n",
              "      <td>...</td>\n",
              "      <td>...</td>\n",
              "      <td>...</td>\n",
              "      <td>...</td>\n",
              "      <td>...</td>\n",
              "      <td>...</td>\n",
              "      <td>...</td>\n",
              "      <td>...</td>\n",
              "      <td>...</td>\n",
              "    </tr>\n",
              "    <tr>\n",
              "      <th>1458639</th>\n",
              "      <td>id2376096</td>\n",
              "      <td>2</td>\n",
              "      <td>2016-04-08 13:31:04</td>\n",
              "      <td>2016-04-08 13:44:02</td>\n",
              "      <td>4</td>\n",
              "      <td>-73.982201</td>\n",
              "      <td>40.745522</td>\n",
              "      <td>-73.994911</td>\n",
              "      <td>40.740170</td>\n",
              "      <td>N</td>\n",
              "      <td>778</td>\n",
              "    </tr>\n",
              "    <tr>\n",
              "      <th>1458640</th>\n",
              "      <td>id1049543</td>\n",
              "      <td>1</td>\n",
              "      <td>2016-01-10 07:35:15</td>\n",
              "      <td>2016-01-10 07:46:10</td>\n",
              "      <td>1</td>\n",
              "      <td>-74.000946</td>\n",
              "      <td>40.747379</td>\n",
              "      <td>-73.970184</td>\n",
              "      <td>40.796547</td>\n",
              "      <td>N</td>\n",
              "      <td>655</td>\n",
              "    </tr>\n",
              "    <tr>\n",
              "      <th>1458641</th>\n",
              "      <td>id2304944</td>\n",
              "      <td>2</td>\n",
              "      <td>2016-04-22 06:57:41</td>\n",
              "      <td>2016-04-22 07:10:25</td>\n",
              "      <td>1</td>\n",
              "      <td>-73.959129</td>\n",
              "      <td>40.768799</td>\n",
              "      <td>-74.004433</td>\n",
              "      <td>40.707371</td>\n",
              "      <td>N</td>\n",
              "      <td>764</td>\n",
              "    </tr>\n",
              "    <tr>\n",
              "      <th>1458642</th>\n",
              "      <td>id2714485</td>\n",
              "      <td>1</td>\n",
              "      <td>2016-01-05 15:56:26</td>\n",
              "      <td>2016-01-05 16:02:39</td>\n",
              "      <td>1</td>\n",
              "      <td>-73.982079</td>\n",
              "      <td>40.749062</td>\n",
              "      <td>-73.974632</td>\n",
              "      <td>40.757107</td>\n",
              "      <td>N</td>\n",
              "      <td>373</td>\n",
              "    </tr>\n",
              "    <tr>\n",
              "      <th>1458643</th>\n",
              "      <td>id1209952</td>\n",
              "      <td>1</td>\n",
              "      <td>2016-04-05 14:44:25</td>\n",
              "      <td>2016-04-05 14:47:43</td>\n",
              "      <td>1</td>\n",
              "      <td>-73.979538</td>\n",
              "      <td>40.781750</td>\n",
              "      <td>-73.972809</td>\n",
              "      <td>40.790585</td>\n",
              "      <td>N</td>\n",
              "      <td>198</td>\n",
              "    </tr>\n",
              "  </tbody>\n",
              "</table>\n",
              "<p>1458644 rows × 11 columns</p>\n",
              "</div>"
            ],
            "text/plain": [
              "                id  vendor_id  ... store_and_fwd_flag trip_duration\n",
              "0        id2875421          2  ...                  N           455\n",
              "1        id2377394          1  ...                  N           663\n",
              "2        id3858529          2  ...                  N          2124\n",
              "3        id3504673          2  ...                  N           429\n",
              "4        id2181028          2  ...                  N           435\n",
              "...            ...        ...  ...                ...           ...\n",
              "1458639  id2376096          2  ...                  N           778\n",
              "1458640  id1049543          1  ...                  N           655\n",
              "1458641  id2304944          2  ...                  N           764\n",
              "1458642  id2714485          1  ...                  N           373\n",
              "1458643  id1209952          1  ...                  N           198\n",
              "\n",
              "[1458644 rows x 11 columns]"
            ]
          },
          "metadata": {},
          "execution_count": 15
        }
      ]
    },
    {
      "cell_type": "markdown",
      "metadata": {
        "id": "CQT4c4AJIK3M"
      },
      "source": [
        "# Knowing data fields\n",
        "Data fields in the dataset stands for the following - \n",
        "\n",
        "* id - a unique identifier for each trip\n",
        "* vendor_id - a code indicating the provider associated with the trip record\n",
        "* pickup_datetime - date and time when the meter was engaged\n",
        "* dropoff_datetime - date and time when the meter was disengaged\n",
        "* passenger_count - the number of passengers in the vehicle (driver entered value)\n",
        "* pickup_longitude - the longitude where the meter was engaged\n",
        "* pickup_latitude - the latitude where the meter was engaged\n",
        "* dropoff_longitude - the longitude where the meter was disengaged\n",
        "* dropoff_latitude - the latitude where the meter was disengaged\n",
        "* store_and_fwd_flag - This flag indicates whether the trip record was held in vehicle memory before sending * to the vendor because the vehicle did not have a connection to the server - Y=store and forward; N=not a store and forward trip\n",
        "* trip_duration - duration of the trip in seconds"
      ]
    },
    {
      "cell_type": "markdown",
      "metadata": {
        "id": "RXcsB4ChIK3N"
      },
      "source": [
        "# Possibilities of feature engineering \n",
        "Having first look at the data, we might end up doing feature engineering to get following fields - \n",
        "* Seperate date and time \n",
        "* Get days(Monday, Tuesday and so on) for specific date \n",
        "* Divide time period into slots of say Morning, afternoon, evening and night or may be more granular periods like early monring, late morning, noon, early evening, etc. \n",
        "* Calculate trip distance from pick-up latitude to drop-off latitude \n",
        "\n",
        "We can conclude on the same after seeing some more patterns in the data"
      ]
    },
    {
      "cell_type": "markdown",
      "metadata": {
        "id": "Wyf5E6TPIK3O"
      },
      "source": [
        "# Doing first level analysis of data"
      ]
    },
    {
      "cell_type": "code",
      "metadata": {
        "execution": {
          "iopub.status.busy": "2021-10-27T04:09:30.948231Z",
          "iopub.execute_input": "2021-10-27T04:09:30.948634Z",
          "iopub.status.idle": "2021-10-27T04:09:31.659529Z",
          "shell.execute_reply.started": "2021-10-27T04:09:30.948592Z",
          "shell.execute_reply": "2021-10-27T04:09:31.658475Z"
        },
        "trusted": true,
        "id": "Dwl8fLK3IK3O"
      },
      "source": [
        "raw_taxi_df.info()"
      ],
      "execution_count": null,
      "outputs": []
    },
    {
      "cell_type": "markdown",
      "metadata": {
        "id": "1HyK-9QzIK3P"
      },
      "source": [
        "As we can see from above output, we have - \n",
        "* 11 columns\n",
        "* 14,58,644 - 14 Lakh rows - its a good size dataset\n",
        "* A few string/object values and a few of them are numerical \n",
        "* No column has empty or missing values "
      ]
    },
    {
      "cell_type": "code",
      "metadata": {
        "execution": {
          "iopub.status.busy": "2021-10-27T04:12:13.583745Z",
          "iopub.execute_input": "2021-10-27T04:12:13.584419Z",
          "iopub.status.idle": "2021-10-27T04:12:14.023136Z",
          "shell.execute_reply.started": "2021-10-27T04:12:13.584358Z",
          "shell.execute_reply": "2021-10-27T04:12:14.022202Z"
        },
        "trusted": true,
        "id": "OXJFSUw0IK3P"
      },
      "source": [
        "raw_taxi_df.describe()"
      ],
      "execution_count": null,
      "outputs": []
    }
  ]
}